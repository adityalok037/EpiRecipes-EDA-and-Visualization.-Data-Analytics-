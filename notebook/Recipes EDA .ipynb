{
 "cells": [
  {
   "cell_type": "markdown",
   "metadata": {},
   "source": [
    "# EpiRecipes"
   ]
  },
  {
   "cell_type": "markdown",
   "metadata": {},
   "source": [
    "## Importing Libraries"
   ]
  },
  {
   "cell_type": "code",
   "execution_count": 5,
   "metadata": {},
   "outputs": [],
   "source": [
    "import pandas as pd \n",
    "import numpy as np\n",
    "import seaborn as sns\n",
    "import matplotlib.pyplot as plt\n"
   ]
  },
  {
   "cell_type": "markdown",
   "metadata": {},
   "source": [
    "# Data Collection"
   ]
  },
  {
   "cell_type": "code",
   "execution_count": 6,
   "metadata": {},
   "outputs": [],
   "source": [
    "file_path = \"../raw file/epi_r.csv\"\n",
    "df = pd.read_csv(file_path)"
   ]
  },
  {
   "cell_type": "markdown",
   "metadata": {},
   "source": [
    "# Exploratory Data Analysis"
   ]
  },
  {
   "cell_type": "markdown",
   "metadata": {},
   "source": [
    "### Data Overview"
   ]
  },
  {
   "cell_type": "code",
   "execution_count": 7,
   "metadata": {},
   "outputs": [
    {
     "data": {
      "text/html": [
       "<div>\n",
       "<style scoped>\n",
       "    .dataframe tbody tr th:only-of-type {\n",
       "        vertical-align: middle;\n",
       "    }\n",
       "\n",
       "    .dataframe tbody tr th {\n",
       "        vertical-align: top;\n",
       "    }\n",
       "\n",
       "    .dataframe thead th {\n",
       "        text-align: right;\n",
       "    }\n",
       "</style>\n",
       "<table border=\"1\" class=\"dataframe\">\n",
       "  <thead>\n",
       "    <tr style=\"text-align: right;\">\n",
       "      <th></th>\n",
       "      <th>title</th>\n",
       "      <th>rating</th>\n",
       "      <th>calories</th>\n",
       "      <th>protein</th>\n",
       "      <th>fat</th>\n",
       "      <th>sodium</th>\n",
       "      <th>#cakeweek</th>\n",
       "      <th>#wasteless</th>\n",
       "      <th>22-minute meals</th>\n",
       "      <th>3-ingredient recipes</th>\n",
       "      <th>...</th>\n",
       "      <th>yellow squash</th>\n",
       "      <th>yogurt</th>\n",
       "      <th>yonkers</th>\n",
       "      <th>yuca</th>\n",
       "      <th>zucchini</th>\n",
       "      <th>cookbooks</th>\n",
       "      <th>leftovers</th>\n",
       "      <th>snack</th>\n",
       "      <th>snack week</th>\n",
       "      <th>turkey</th>\n",
       "    </tr>\n",
       "  </thead>\n",
       "  <tbody>\n",
       "    <tr>\n",
       "      <th>0</th>\n",
       "      <td>Lentil, Apple, and Turkey Wrap</td>\n",
       "      <td>2.500</td>\n",
       "      <td>426.0</td>\n",
       "      <td>30.0</td>\n",
       "      <td>7.0</td>\n",
       "      <td>559.0</td>\n",
       "      <td>0.0</td>\n",
       "      <td>0.0</td>\n",
       "      <td>0.0</td>\n",
       "      <td>0.0</td>\n",
       "      <td>...</td>\n",
       "      <td>0.0</td>\n",
       "      <td>0.0</td>\n",
       "      <td>0.0</td>\n",
       "      <td>0.0</td>\n",
       "      <td>0.0</td>\n",
       "      <td>0.0</td>\n",
       "      <td>0.0</td>\n",
       "      <td>0.0</td>\n",
       "      <td>0.0</td>\n",
       "      <td>1.0</td>\n",
       "    </tr>\n",
       "    <tr>\n",
       "      <th>1</th>\n",
       "      <td>Boudin Blanc Terrine with Red Onion Confit</td>\n",
       "      <td>4.375</td>\n",
       "      <td>403.0</td>\n",
       "      <td>18.0</td>\n",
       "      <td>23.0</td>\n",
       "      <td>1439.0</td>\n",
       "      <td>0.0</td>\n",
       "      <td>0.0</td>\n",
       "      <td>0.0</td>\n",
       "      <td>0.0</td>\n",
       "      <td>...</td>\n",
       "      <td>0.0</td>\n",
       "      <td>0.0</td>\n",
       "      <td>0.0</td>\n",
       "      <td>0.0</td>\n",
       "      <td>0.0</td>\n",
       "      <td>0.0</td>\n",
       "      <td>0.0</td>\n",
       "      <td>0.0</td>\n",
       "      <td>0.0</td>\n",
       "      <td>0.0</td>\n",
       "    </tr>\n",
       "  </tbody>\n",
       "</table>\n",
       "<p>2 rows × 680 columns</p>\n",
       "</div>"
      ],
      "text/plain": [
       "                                         title  rating  calories  protein  \\\n",
       "0              Lentil, Apple, and Turkey Wrap    2.500     426.0     30.0   \n",
       "1  Boudin Blanc Terrine with Red Onion Confit    4.375     403.0     18.0   \n",
       "\n",
       "    fat  sodium  #cakeweek  #wasteless  22-minute meals  3-ingredient recipes  \\\n",
       "0   7.0   559.0        0.0         0.0              0.0                   0.0   \n",
       "1  23.0  1439.0        0.0         0.0              0.0                   0.0   \n",
       "\n",
       "   ...  yellow squash  yogurt  yonkers  yuca  zucchini  cookbooks  leftovers  \\\n",
       "0  ...            0.0     0.0      0.0   0.0       0.0        0.0        0.0   \n",
       "1  ...            0.0     0.0      0.0   0.0       0.0        0.0        0.0   \n",
       "\n",
       "   snack  snack week  turkey  \n",
       "0    0.0         0.0     1.0  \n",
       "1    0.0         0.0     0.0  \n",
       "\n",
       "[2 rows x 680 columns]"
      ]
     },
     "execution_count": 7,
     "metadata": {},
     "output_type": "execute_result"
    }
   ],
   "source": [
    "df.head(2)"
   ]
  },
  {
   "cell_type": "code",
   "execution_count": 8,
   "metadata": {},
   "outputs": [
    {
     "name": "stdout",
     "output_type": "stream",
     "text": [
      "<class 'pandas.core.frame.DataFrame'>\n",
      "RangeIndex: 20052 entries, 0 to 20051\n",
      "Columns: 680 entries, title to turkey\n",
      "dtypes: float64(679), object(1)\n",
      "memory usage: 104.0+ MB\n"
     ]
    }
   ],
   "source": [
    "df.info()"
   ]
  },
  {
   "cell_type": "code",
   "execution_count": 9,
   "metadata": {},
   "outputs": [
    {
     "data": {
      "text/html": [
       "<div>\n",
       "<style scoped>\n",
       "    .dataframe tbody tr th:only-of-type {\n",
       "        vertical-align: middle;\n",
       "    }\n",
       "\n",
       "    .dataframe tbody tr th {\n",
       "        vertical-align: top;\n",
       "    }\n",
       "\n",
       "    .dataframe thead th {\n",
       "        text-align: right;\n",
       "    }\n",
       "</style>\n",
       "<table border=\"1\" class=\"dataframe\">\n",
       "  <thead>\n",
       "    <tr style=\"text-align: right;\">\n",
       "      <th></th>\n",
       "      <th>rating</th>\n",
       "      <th>calories</th>\n",
       "      <th>protein</th>\n",
       "      <th>fat</th>\n",
       "      <th>sodium</th>\n",
       "      <th>#cakeweek</th>\n",
       "      <th>#wasteless</th>\n",
       "      <th>22-minute meals</th>\n",
       "      <th>3-ingredient recipes</th>\n",
       "      <th>30 days of groceries</th>\n",
       "      <th>...</th>\n",
       "      <th>yellow squash</th>\n",
       "      <th>yogurt</th>\n",
       "      <th>yonkers</th>\n",
       "      <th>yuca</th>\n",
       "      <th>zucchini</th>\n",
       "      <th>cookbooks</th>\n",
       "      <th>leftovers</th>\n",
       "      <th>snack</th>\n",
       "      <th>snack week</th>\n",
       "      <th>turkey</th>\n",
       "    </tr>\n",
       "  </thead>\n",
       "  <tbody>\n",
       "    <tr>\n",
       "      <th>count</th>\n",
       "      <td>20052.000000</td>\n",
       "      <td>1.593500e+04</td>\n",
       "      <td>15890.000000</td>\n",
       "      <td>1.586900e+04</td>\n",
       "      <td>1.593300e+04</td>\n",
       "      <td>20052.000000</td>\n",
       "      <td>20052.000000</td>\n",
       "      <td>20052.000000</td>\n",
       "      <td>20052.000000</td>\n",
       "      <td>20052.000000</td>\n",
       "      <td>...</td>\n",
       "      <td>20052.000000</td>\n",
       "      <td>20052.000000</td>\n",
       "      <td>20052.000000</td>\n",
       "      <td>20052.000000</td>\n",
       "      <td>20052.000000</td>\n",
       "      <td>20052.000000</td>\n",
       "      <td>20052.000000</td>\n",
       "      <td>20052.000000</td>\n",
       "      <td>20052.000000</td>\n",
       "      <td>20052.000000</td>\n",
       "    </tr>\n",
       "    <tr>\n",
       "      <th>mean</th>\n",
       "      <td>3.714467</td>\n",
       "      <td>6.322958e+03</td>\n",
       "      <td>100.160793</td>\n",
       "      <td>3.468775e+02</td>\n",
       "      <td>6.225975e+03</td>\n",
       "      <td>0.000299</td>\n",
       "      <td>0.000050</td>\n",
       "      <td>0.000848</td>\n",
       "      <td>0.001346</td>\n",
       "      <td>0.000349</td>\n",
       "      <td>...</td>\n",
       "      <td>0.001247</td>\n",
       "      <td>0.026332</td>\n",
       "      <td>0.000050</td>\n",
       "      <td>0.000299</td>\n",
       "      <td>0.014861</td>\n",
       "      <td>0.000150</td>\n",
       "      <td>0.000349</td>\n",
       "      <td>0.001396</td>\n",
       "      <td>0.000948</td>\n",
       "      <td>0.022741</td>\n",
       "    </tr>\n",
       "    <tr>\n",
       "      <th>std</th>\n",
       "      <td>1.340829</td>\n",
       "      <td>3.590460e+05</td>\n",
       "      <td>3840.318527</td>\n",
       "      <td>2.045611e+04</td>\n",
       "      <td>3.333182e+05</td>\n",
       "      <td>0.017296</td>\n",
       "      <td>0.007062</td>\n",
       "      <td>0.029105</td>\n",
       "      <td>0.036671</td>\n",
       "      <td>0.018681</td>\n",
       "      <td>...</td>\n",
       "      <td>0.035288</td>\n",
       "      <td>0.160123</td>\n",
       "      <td>0.007062</td>\n",
       "      <td>0.017296</td>\n",
       "      <td>0.121001</td>\n",
       "      <td>0.012231</td>\n",
       "      <td>0.018681</td>\n",
       "      <td>0.037343</td>\n",
       "      <td>0.030768</td>\n",
       "      <td>0.149080</td>\n",
       "    </tr>\n",
       "    <tr>\n",
       "      <th>min</th>\n",
       "      <td>0.000000</td>\n",
       "      <td>0.000000e+00</td>\n",
       "      <td>0.000000</td>\n",
       "      <td>0.000000e+00</td>\n",
       "      <td>0.000000e+00</td>\n",
       "      <td>0.000000</td>\n",
       "      <td>0.000000</td>\n",
       "      <td>0.000000</td>\n",
       "      <td>0.000000</td>\n",
       "      <td>0.000000</td>\n",
       "      <td>...</td>\n",
       "      <td>0.000000</td>\n",
       "      <td>0.000000</td>\n",
       "      <td>0.000000</td>\n",
       "      <td>0.000000</td>\n",
       "      <td>0.000000</td>\n",
       "      <td>0.000000</td>\n",
       "      <td>0.000000</td>\n",
       "      <td>0.000000</td>\n",
       "      <td>0.000000</td>\n",
       "      <td>0.000000</td>\n",
       "    </tr>\n",
       "    <tr>\n",
       "      <th>25%</th>\n",
       "      <td>3.750000</td>\n",
       "      <td>1.980000e+02</td>\n",
       "      <td>3.000000</td>\n",
       "      <td>7.000000e+00</td>\n",
       "      <td>8.000000e+01</td>\n",
       "      <td>0.000000</td>\n",
       "      <td>0.000000</td>\n",
       "      <td>0.000000</td>\n",
       "      <td>0.000000</td>\n",
       "      <td>0.000000</td>\n",
       "      <td>...</td>\n",
       "      <td>0.000000</td>\n",
       "      <td>0.000000</td>\n",
       "      <td>0.000000</td>\n",
       "      <td>0.000000</td>\n",
       "      <td>0.000000</td>\n",
       "      <td>0.000000</td>\n",
       "      <td>0.000000</td>\n",
       "      <td>0.000000</td>\n",
       "      <td>0.000000</td>\n",
       "      <td>0.000000</td>\n",
       "    </tr>\n",
       "    <tr>\n",
       "      <th>50%</th>\n",
       "      <td>4.375000</td>\n",
       "      <td>3.310000e+02</td>\n",
       "      <td>8.000000</td>\n",
       "      <td>1.700000e+01</td>\n",
       "      <td>2.940000e+02</td>\n",
       "      <td>0.000000</td>\n",
       "      <td>0.000000</td>\n",
       "      <td>0.000000</td>\n",
       "      <td>0.000000</td>\n",
       "      <td>0.000000</td>\n",
       "      <td>...</td>\n",
       "      <td>0.000000</td>\n",
       "      <td>0.000000</td>\n",
       "      <td>0.000000</td>\n",
       "      <td>0.000000</td>\n",
       "      <td>0.000000</td>\n",
       "      <td>0.000000</td>\n",
       "      <td>0.000000</td>\n",
       "      <td>0.000000</td>\n",
       "      <td>0.000000</td>\n",
       "      <td>0.000000</td>\n",
       "    </tr>\n",
       "    <tr>\n",
       "      <th>75%</th>\n",
       "      <td>4.375000</td>\n",
       "      <td>5.860000e+02</td>\n",
       "      <td>27.000000</td>\n",
       "      <td>3.300000e+01</td>\n",
       "      <td>7.110000e+02</td>\n",
       "      <td>0.000000</td>\n",
       "      <td>0.000000</td>\n",
       "      <td>0.000000</td>\n",
       "      <td>0.000000</td>\n",
       "      <td>0.000000</td>\n",
       "      <td>...</td>\n",
       "      <td>0.000000</td>\n",
       "      <td>0.000000</td>\n",
       "      <td>0.000000</td>\n",
       "      <td>0.000000</td>\n",
       "      <td>0.000000</td>\n",
       "      <td>0.000000</td>\n",
       "      <td>0.000000</td>\n",
       "      <td>0.000000</td>\n",
       "      <td>0.000000</td>\n",
       "      <td>0.000000</td>\n",
       "    </tr>\n",
       "    <tr>\n",
       "      <th>max</th>\n",
       "      <td>5.000000</td>\n",
       "      <td>3.011122e+07</td>\n",
       "      <td>236489.000000</td>\n",
       "      <td>1.722763e+06</td>\n",
       "      <td>2.767511e+07</td>\n",
       "      <td>1.000000</td>\n",
       "      <td>1.000000</td>\n",
       "      <td>1.000000</td>\n",
       "      <td>1.000000</td>\n",
       "      <td>1.000000</td>\n",
       "      <td>...</td>\n",
       "      <td>1.000000</td>\n",
       "      <td>1.000000</td>\n",
       "      <td>1.000000</td>\n",
       "      <td>1.000000</td>\n",
       "      <td>1.000000</td>\n",
       "      <td>1.000000</td>\n",
       "      <td>1.000000</td>\n",
       "      <td>1.000000</td>\n",
       "      <td>1.000000</td>\n",
       "      <td>1.000000</td>\n",
       "    </tr>\n",
       "  </tbody>\n",
       "</table>\n",
       "<p>8 rows × 679 columns</p>\n",
       "</div>"
      ],
      "text/plain": [
       "             rating      calories        protein           fat        sodium  \\\n",
       "count  20052.000000  1.593500e+04   15890.000000  1.586900e+04  1.593300e+04   \n",
       "mean       3.714467  6.322958e+03     100.160793  3.468775e+02  6.225975e+03   \n",
       "std        1.340829  3.590460e+05    3840.318527  2.045611e+04  3.333182e+05   \n",
       "min        0.000000  0.000000e+00       0.000000  0.000000e+00  0.000000e+00   \n",
       "25%        3.750000  1.980000e+02       3.000000  7.000000e+00  8.000000e+01   \n",
       "50%        4.375000  3.310000e+02       8.000000  1.700000e+01  2.940000e+02   \n",
       "75%        4.375000  5.860000e+02      27.000000  3.300000e+01  7.110000e+02   \n",
       "max        5.000000  3.011122e+07  236489.000000  1.722763e+06  2.767511e+07   \n",
       "\n",
       "          #cakeweek    #wasteless  22-minute meals  3-ingredient recipes  \\\n",
       "count  20052.000000  20052.000000     20052.000000          20052.000000   \n",
       "mean       0.000299      0.000050         0.000848              0.001346   \n",
       "std        0.017296      0.007062         0.029105              0.036671   \n",
       "min        0.000000      0.000000         0.000000              0.000000   \n",
       "25%        0.000000      0.000000         0.000000              0.000000   \n",
       "50%        0.000000      0.000000         0.000000              0.000000   \n",
       "75%        0.000000      0.000000         0.000000              0.000000   \n",
       "max        1.000000      1.000000         1.000000              1.000000   \n",
       "\n",
       "       30 days of groceries  ...  yellow squash        yogurt       yonkers  \\\n",
       "count          20052.000000  ...   20052.000000  20052.000000  20052.000000   \n",
       "mean               0.000349  ...       0.001247      0.026332      0.000050   \n",
       "std                0.018681  ...       0.035288      0.160123      0.007062   \n",
       "min                0.000000  ...       0.000000      0.000000      0.000000   \n",
       "25%                0.000000  ...       0.000000      0.000000      0.000000   \n",
       "50%                0.000000  ...       0.000000      0.000000      0.000000   \n",
       "75%                0.000000  ...       0.000000      0.000000      0.000000   \n",
       "max                1.000000  ...       1.000000      1.000000      1.000000   \n",
       "\n",
       "               yuca      zucchini     cookbooks     leftovers         snack  \\\n",
       "count  20052.000000  20052.000000  20052.000000  20052.000000  20052.000000   \n",
       "mean       0.000299      0.014861      0.000150      0.000349      0.001396   \n",
       "std        0.017296      0.121001      0.012231      0.018681      0.037343   \n",
       "min        0.000000      0.000000      0.000000      0.000000      0.000000   \n",
       "25%        0.000000      0.000000      0.000000      0.000000      0.000000   \n",
       "50%        0.000000      0.000000      0.000000      0.000000      0.000000   \n",
       "75%        0.000000      0.000000      0.000000      0.000000      0.000000   \n",
       "max        1.000000      1.000000      1.000000      1.000000      1.000000   \n",
       "\n",
       "         snack week        turkey  \n",
       "count  20052.000000  20052.000000  \n",
       "mean       0.000948      0.022741  \n",
       "std        0.030768      0.149080  \n",
       "min        0.000000      0.000000  \n",
       "25%        0.000000      0.000000  \n",
       "50%        0.000000      0.000000  \n",
       "75%        0.000000      0.000000  \n",
       "max        1.000000      1.000000  \n",
       "\n",
       "[8 rows x 679 columns]"
      ]
     },
     "execution_count": 9,
     "metadata": {},
     "output_type": "execute_result"
    }
   ],
   "source": [
    "df.describe()"
   ]
  },
  {
   "cell_type": "code",
   "execution_count": 10,
   "metadata": {},
   "outputs": [
    {
     "data": {
      "text/plain": [
       "title          object\n",
       "rating        float64\n",
       "calories      float64\n",
       "protein       float64\n",
       "fat           float64\n",
       "               ...   \n",
       "cookbooks     float64\n",
       "leftovers     float64\n",
       "snack         float64\n",
       "snack week    float64\n",
       "turkey        float64\n",
       "Length: 680, dtype: object"
      ]
     },
     "execution_count": 10,
     "metadata": {},
     "output_type": "execute_result"
    }
   ],
   "source": [
    "df.dtypes"
   ]
  },
  {
   "cell_type": "markdown",
   "metadata": {},
   "source": [
    "### Handle Missing & Duplicate Data"
   ]
  },
  {
   "cell_type": "code",
   "execution_count": 11,
   "metadata": {},
   "outputs": [
    {
     "data": {
      "text/plain": [
       "title            0\n",
       "rating           0\n",
       "calories      4117\n",
       "protein       4162\n",
       "fat           4183\n",
       "              ... \n",
       "cookbooks        0\n",
       "leftovers        0\n",
       "snack            0\n",
       "snack week       0\n",
       "turkey           0\n",
       "Length: 680, dtype: int64"
      ]
     },
     "execution_count": 11,
     "metadata": {},
     "output_type": "execute_result"
    }
   ],
   "source": [
    "# df.columns[df.isnull().sum()>=1000]\n",
    "df.isnull().sum()\n",
    "\n"
   ]
  },
  {
   "cell_type": "code",
   "execution_count": 12,
   "metadata": {},
   "outputs": [],
   "source": [
    "df = df.dropna()"
   ]
  },
  {
   "cell_type": "code",
   "execution_count": 13,
   "metadata": {},
   "outputs": [
    {
     "data": {
      "text/plain": [
       "1418"
      ]
     },
     "execution_count": 13,
     "metadata": {},
     "output_type": "execute_result"
    }
   ],
   "source": [
    "# Check for duplicates\n",
    "df.duplicated().sum()\n",
    "\n"
   ]
  },
  {
   "cell_type": "code",
   "execution_count": 14,
   "metadata": {},
   "outputs": [],
   "source": [
    "\n",
    "# Remove duplicates\n",
    "df.drop_duplicates(inplace=True)"
   ]
  },
  {
   "cell_type": "code",
   "execution_count": 15,
   "metadata": {},
   "outputs": [
    {
     "name": "stdout",
     "output_type": "stream",
     "text": [
      "<class 'pandas.core.frame.DataFrame'>\n",
      "Index: 14446 entries, 0 to 20051\n",
      "Columns: 680 entries, title to turkey\n",
      "dtypes: float64(679), object(1)\n",
      "memory usage: 75.1+ MB\n"
     ]
    }
   ],
   "source": [
    "df.info()"
   ]
  },
  {
   "cell_type": "code",
   "execution_count": 16,
   "metadata": {},
   "outputs": [
    {
     "data": {
      "text/plain": [
       "title         0\n",
       "rating        0\n",
       "calories      0\n",
       "protein       0\n",
       "fat           0\n",
       "             ..\n",
       "cookbooks     0\n",
       "leftovers     0\n",
       "snack         0\n",
       "snack week    0\n",
       "turkey        0\n",
       "Length: 680, dtype: int64"
      ]
     },
     "execution_count": 16,
     "metadata": {},
     "output_type": "execute_result"
    }
   ],
   "source": [
    "df.isnull().sum()"
   ]
  },
  {
   "cell_type": "markdown",
   "metadata": {},
   "source": [
    "### Drop column have no value"
   ]
  },
  {
   "cell_type": "code",
   "execution_count": 17,
   "metadata": {},
   "outputs": [
    {
     "data": {
      "text/plain": [
       "Index(['camping', 'egypt', 'frankenrecipe', 'frittata', 'grand marnier',\n",
       "       'iowa', 'jamaica', 'las vegas', 'mississippi', 'new hampshire', 'rosé',\n",
       "       'waffle'],\n",
       "      dtype='object')"
      ]
     },
     "execution_count": 17,
     "metadata": {},
     "output_type": "execute_result"
    }
   ],
   "source": [
    "zero_col = df.columns[(df==0).all()]\n",
    "zero_col"
   ]
  },
  {
   "cell_type": "code",
   "execution_count": 18,
   "metadata": {},
   "outputs": [],
   "source": [
    "df = df.drop(columns=zero_col)\n"
   ]
  },
  {
   "cell_type": "markdown",
   "metadata": {},
   "source": [
    "### Saving the cleaned file"
   ]
  },
  {
   "cell_type": "code",
   "execution_count": 19,
   "metadata": {},
   "outputs": [],
   "source": [
    "df.to_csv(\"../cleaned file./cleaned_recipe.csv\")"
   ]
  },
  {
   "cell_type": "markdown",
   "metadata": {},
   "source": [
    "# Feature Engineering"
   ]
  },
  {
   "cell_type": "code",
   "execution_count": 20,
   "metadata": {},
   "outputs": [],
   "source": [
    "# Step 1: Separate the first column (Title) and the remaining columns\n",
    "titles = df.iloc[:, 0]  # First column (titles)\n",
    "ingredient_df = df.iloc[:, 5:]  # Ingredient columns (from column 8 onwards)\n",
    "\n",
    "# Step 2: Group the ingredients based on presence (1)\n",
    "feature_group = ingredient_df.apply(lambda row: ', '.join(row.index[row == 1]), axis=1)\n",
    "\n",
    "# Step 3: Create the final DataFrame with titles and grouped ingredients\n",
    "final_df = pd.DataFrame({\n",
    "    'Title': titles,\n",
    "    'Rating': df['rating'],\n",
    "    'Calories': df['calories'],\n",
    "    'Protein': df['protein'],\n",
    "    'Fat': df['fat'],\n",
    "    'Sodium': df['sodium'],\n",
    "    'features': feature_group\n",
    "})"
   ]
  },
  {
   "cell_type": "code",
   "execution_count": 21,
   "metadata": {},
   "outputs": [
    {
     "name": "stdout",
     "output_type": "stream",
     "text": [
      "\n",
      "Final DataFrame with Grouped Ingredients:\n"
     ]
    },
    {
     "data": {
      "text/html": [
       "<div>\n",
       "<style scoped>\n",
       "    .dataframe tbody tr th:only-of-type {\n",
       "        vertical-align: middle;\n",
       "    }\n",
       "\n",
       "    .dataframe tbody tr th {\n",
       "        vertical-align: top;\n",
       "    }\n",
       "\n",
       "    .dataframe thead th {\n",
       "        text-align: right;\n",
       "    }\n",
       "</style>\n",
       "<table border=\"1\" class=\"dataframe\">\n",
       "  <thead>\n",
       "    <tr style=\"text-align: right;\">\n",
       "      <th></th>\n",
       "      <th>Title</th>\n",
       "      <th>Rating</th>\n",
       "      <th>Calories</th>\n",
       "      <th>Protein</th>\n",
       "      <th>Fat</th>\n",
       "      <th>Sodium</th>\n",
       "      <th>features</th>\n",
       "    </tr>\n",
       "  </thead>\n",
       "  <tbody>\n",
       "    <tr>\n",
       "      <th>0</th>\n",
       "      <td>Lentil, Apple, and Turkey Wrap</td>\n",
       "      <td>2.500</td>\n",
       "      <td>426.0</td>\n",
       "      <td>30.0</td>\n",
       "      <td>7.0</td>\n",
       "      <td>559.0</td>\n",
       "      <td>apple, bean, cookie, fruit, kid-friendly, lent...</td>\n",
       "    </tr>\n",
       "    <tr>\n",
       "      <th>1</th>\n",
       "      <td>Boudin Blanc Terrine with Red Onion Confit</td>\n",
       "      <td>4.375</td>\n",
       "      <td>403.0</td>\n",
       "      <td>18.0</td>\n",
       "      <td>23.0</td>\n",
       "      <td>1439.0</td>\n",
       "      <td>bake, bastille day, bon appétit, chill, dried ...</td>\n",
       "    </tr>\n",
       "    <tr>\n",
       "      <th>2</th>\n",
       "      <td>Potato and Fennel Soup Hodge</td>\n",
       "      <td>3.750</td>\n",
       "      <td>165.0</td>\n",
       "      <td>6.0</td>\n",
       "      <td>7.0</td>\n",
       "      <td>165.0</td>\n",
       "      <td>dairy, fennel, gourmet, new york, potato, soup...</td>\n",
       "    </tr>\n",
       "    <tr>\n",
       "      <th>4</th>\n",
       "      <td>Spinach Noodle Casserole</td>\n",
       "      <td>3.125</td>\n",
       "      <td>547.0</td>\n",
       "      <td>20.0</td>\n",
       "      <td>32.0</td>\n",
       "      <td>452.0</td>\n",
       "      <td>bake, bon appétit, california, cheese, dairy, ...</td>\n",
       "    </tr>\n",
       "    <tr>\n",
       "      <th>5</th>\n",
       "      <td>The Best Blts</td>\n",
       "      <td>4.375</td>\n",
       "      <td>948.0</td>\n",
       "      <td>19.0</td>\n",
       "      <td>79.0</td>\n",
       "      <td>1042.0</td>\n",
       "      <td>bacon, basil, bon appétit, food processor, kid...</td>\n",
       "    </tr>\n",
       "  </tbody>\n",
       "</table>\n",
       "</div>"
      ],
      "text/plain": [
       "                                         Title  Rating  Calories  Protein  \\\n",
       "0              Lentil, Apple, and Turkey Wrap    2.500     426.0     30.0   \n",
       "1  Boudin Blanc Terrine with Red Onion Confit    4.375     403.0     18.0   \n",
       "2                Potato and Fennel Soup Hodge    3.750     165.0      6.0   \n",
       "4                    Spinach Noodle Casserole    3.125     547.0     20.0   \n",
       "5                               The Best Blts    4.375     948.0     19.0   \n",
       "\n",
       "    Fat  Sodium                                           features  \n",
       "0   7.0   559.0  apple, bean, cookie, fruit, kid-friendly, lent...  \n",
       "1  23.0  1439.0  bake, bastille day, bon appétit, chill, dried ...  \n",
       "2   7.0   165.0  dairy, fennel, gourmet, new york, potato, soup...  \n",
       "4  32.0   452.0  bake, bon appétit, california, cheese, dairy, ...  \n",
       "5  79.0  1042.0  bacon, basil, bon appétit, food processor, kid...  "
      ]
     },
     "execution_count": 21,
     "metadata": {},
     "output_type": "execute_result"
    }
   ],
   "source": [
    "print(\"\\nFinal DataFrame with Grouped Ingredients:\")\n",
    "final_df.head()"
   ]
  },
  {
   "cell_type": "code",
   "execution_count": 22,
   "metadata": {},
   "outputs": [],
   "source": [
    "# pip install openpyxl  "
   ]
  },
  {
   "cell_type": "code",
   "execution_count": 23,
   "metadata": {},
   "outputs": [],
   "source": [
    "# pip show openpyxl\n"
   ]
  },
  {
   "cell_type": "markdown",
   "metadata": {},
   "source": [
    "### Save the Files"
   ]
  },
  {
   "cell_type": "code",
   "execution_count": 24,
   "metadata": {},
   "outputs": [],
   "source": [
    "final_df.to_csv('../cleaned file/recipies.csv')\n",
    "\n",
    "final_df.to_excel('../cleaned file/recipies.xlsx',index=False)"
   ]
  }
 ],
 "metadata": {
  "kernelspec": {
   "display_name": "Python 3",
   "language": "python",
   "name": "python3"
  },
  "language_info": {
   "codemirror_mode": {
    "name": "ipython",
    "version": 3
   },
   "file_extension": ".py",
   "mimetype": "text/x-python",
   "name": "python",
   "nbconvert_exporter": "python",
   "pygments_lexer": "ipython3",
   "version": "3.12.3"
  }
 },
 "nbformat": 4,
 "nbformat_minor": 2
}
